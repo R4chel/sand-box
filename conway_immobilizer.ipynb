{
 "cells": [
  {
   "cell_type": "code",
   "execution_count": 1,
   "metadata": {
    "collapsed": false
   },
   "outputs": [],
   "source": [
    "from __future__ import division\n",
    "import random\n",
    "import itertools"
   ]
  },
  {
   "cell_type": "code",
   "execution_count": 2,
   "metadata": {
    "collapsed": true
   },
   "outputs": [],
   "source": [
    "class Pos(object):\n",
    "    LEFT = 0\n",
    "    CENTER = 1\n",
    "    RIGHT = 2"
   ]
  },
  {
   "cell_type": "code",
   "execution_count": 3,
   "metadata": {
    "collapsed": true
   },
   "outputs": [],
   "source": [
    "class Card(object):\n",
    "    KING = 'K'\n",
    "    QUEEN = 'Q'\n",
    "    JACK = 'J'"
   ]
  },
  {
   "cell_type": "code",
   "execution_count": 25,
   "metadata": {
    "collapsed": false
   },
   "outputs": [],
   "source": [
    "class Game(object):\n",
    "    def __init__(self, cards=None):\n",
    "        if not cards:\n",
    "            cards = self.random_order()\n",
    "        cards = list(cards)\n",
    "        self._piles = {}\n",
    "        self._piles[Pos.LEFT] = cards[:cards.index(0)]\n",
    "        cards = cards[cards.index(0)+1:]\n",
    "        self._piles[Pos.CENTER] = cards[:cards.index(0)]\n",
    "        self._piles[Pos.RIGHT] = cards[cards.index(0) + 1:]\n",
    "        self.move_count = 0\n",
    "        \n",
    "    def random_order(self):\n",
    "        cards = [Card.KING, Card.QUEEN, Card.JACK, 0, 0]\n",
    "        random.shuffle(cards)\n",
    "        return cards\n",
    "    \n",
    "    def view_board(self):\n",
    "        return {pos: get_or_none(self._piles[pos]) for pos in [Pos.LEFT, Pos.CENTER, Pos.RIGHT]} \n",
    "        \n",
    "    def win_condition(self):\n",
    "        return self._piles[Pos.LEFT] == [Card.KING, Card.QUEEN, Card.JACK]\n",
    "    \n",
    "    def move(self, from_pos, to_pos):\n",
    "        if get_or_none(self._piles[from_pos]):\n",
    "            self._piles[to_pos] = self._piles[from_pos][:1] + self._piles[to_pos]\n",
    "            self._piles[from_pos] = self._piles[from_pos][1:]\n",
    "        self.move_count += 1 "
   ]
  },
  {
   "cell_type": "code",
   "execution_count": 5,
   "metadata": {
    "collapsed": true
   },
   "outputs": [],
   "source": [
    "def get_or_none(l):\n",
    "    if l:\n",
    "        return l[0]"
   ]
  },
  {
   "cell_type": "code",
   "execution_count": 6,
   "metadata": {
    "collapsed": false
   },
   "outputs": [],
   "source": [
    "def test_algorithm(alg):\n",
    "    game = Game()\n",
    "    while game.move_count < 120 and not game.win_condition():\n",
    "        game.move(*alg(game.view_board()))\n",
    "    if game.win_condition():\n",
    "        print \"CONGRATS YOU WON!\"\n",
    "        return True\n",
    "    return False"
   ]
  },
  {
   "cell_type": "code",
   "execution_count": 50,
   "metadata": {
    "collapsed": true
   },
   "outputs": [],
   "source": [
    "def test_all_starts(alg):\n",
    "    loss_win =[0,0]\n",
    "    for start in set(itertools.permutations([Card.KING, Card.QUEEN, Card.JACK, 0, 0])):\n",
    "        game = Game(start)\n",
    "        while game.move_count < 120 and not game.win_condition():\n",
    "            game.move(*alg(game.view_board()))\n",
    "        loss_win[game.win_condition()] += 1\n",
    "    print \"Won: %d\\nLost: %d\" % (loss_win[True], loss_win[False]) "
   ]
  },
  {
   "cell_type": "code",
   "execution_count": 8,
   "metadata": {
    "collapsed": true
   },
   "outputs": [],
   "source": [
    "def random_move(_state):\n",
    "    from_pos, to_pos = random.sample([Pos.LEFT, Pos.CENTER, Pos.RIGHT], 2)\n",
    "    return from_pos, to_pos"
   ]
  },
  {
   "cell_type": "code",
   "execution_count": 51,
   "metadata": {
    "collapsed": false
   },
   "outputs": [
    {
     "name": "stdout",
     "output_type": "stream",
     "text": [
      "Won: 18\n",
      "Lost: 42\n"
     ]
    }
   ],
   "source": [
    "test_all_starts(random_move)"
   ]
  },
  {
   "cell_type": "code",
   "execution_count": 10,
   "metadata": {
    "collapsed": false
   },
   "outputs": [
    {
     "name": "stdout",
     "output_type": "stream",
     "text": [
      "CONGRATS YOU WON!\n"
     ]
    },
    {
     "data": {
      "text/plain": [
       "True"
      ]
     },
     "execution_count": 10,
     "metadata": {},
     "output_type": "execute_result"
    }
   ],
   "source": [
    "test_algorithm(random_move)"
   ]
  },
  {
   "cell_type": "code",
   "execution_count": 53,
   "metadata": {
    "collapsed": false
   },
   "outputs": [],
   "source": [
    "def strategy1(state):\n",
    "    strat = {('Q', 'J', None): (Pos.LEFT, Pos.RIGHT),\n",
    " (None, 'K', None): (Pos.CENTER, Pos.RIGHT),\n",
    " (None, 'K', 'J'): (Pos.RIGHT, Pos.LEFT),\n",
    " ('Q', 'K', None): (Pos.CENTER, Pos.RIGHT),\n",
    " ('Q', None, 'J'): (Pos.LEFT, Pos.CENTER),\n",
    " ('J', None, None): (Pos.LEFT, Pos.CENTER),\n",
    " (None, 'Q', None): (Pos.CENTER, Pos.RIGHT),\n",
    " ('Q', 'K', 'J'): (Pos.LEFT, Pos.CENTER),\n",
    " ('J', None, 'K'): (Pos.LEFT, Pos.CENTER),\n",
    " ('K', 'Q', None): (Pos.CENTER, Pos.RIGHT),\n",
    " ('K', 'Q', 'J'): (Pos.LEFT, Pos.CENTER),\n",
    " ('K', 'J', None): (Pos.LEFT, Pos.CENTER),\n",
    " (None, None, 'Q'): (Pos.CENTER, Pos.RIGHT),\n",
    " ('Q', 'J', 'K'): (Pos.LEFT, Pos.RIGHT),\n",
    " ('J', 'K', 'Q'): (Pos.RIGHT, Pos.LEFT),\n",
    " ('Q', None, None):(Pos.LEFT, Pos.CENTER),\n",
    " (None, 'J', None): (Pos.CENTER, Pos.LEFT),\n",
    " (None, 'Q', 'K'): (Pos.RIGHT, Pos.LEFT),\n",
    " (None, 'Q', 'J'): (Pos.RIGHT, Pos.LEFT),\n",
    " ('K', None, None):(Pos.LEFT, Pos.CENTER),\n",
    " ('K', 'J', 'Q'): (Pos.LEFT, Pos.RIGHT),\n",
    " (None, 'J', 'Q'): (Pos.CENTER, Pos.LEFT),\n",
    " ('K', None, 'Q'): (Pos.LEFT, Pos.CENTER),\n",
    " (None, None, 'J'): (Pos.RIGHT, Pos.LEFT),\n",
    " ('J', 'Q', None): (Pos.CENTER, Pos.RIGHT),\n",
    " (None, None, 'K'): (Pos.CENTER, Pos.RIGHT),\n",
    " ('J', 'K', None): (Pos.CENTER, Pos.RIGHT),\n",
    " ('J', None, 'Q'): (Pos.LEFT, Pos.CENTER),\n",
    " ('J', 'Q', 'K'): (Pos.CENTER, Pos.LEFT),\n",
    " ('K', None, 'J'): (Pos.LEFT, Pos.CENTER),\n",
    " (None, 'K', 'Q'): (Pos.RIGHT, Pos.LEFT),\n",
    " (None, 'J', 'K'): (Pos.CENTER, Pos.LEFT),\n",
    " ('Q', None, 'K'): (Pos.RIGHT, Pos.LEFT)}\n",
    "    return strat[tuple(state.values())]"
   ]
  },
  {
   "cell_type": "code",
   "execution_count": 54,
   "metadata": {
    "collapsed": false
   },
   "outputs": [
    {
     "name": "stdout",
     "output_type": "stream",
     "text": [
      "Won: 32\n",
      "Lost: 28\n"
     ]
    }
   ],
   "source": [
    "test_all_starts(strategy1)"
   ]
  },
  {
   "cell_type": "code",
   "execution_count": 20,
   "metadata": {
    "collapsed": true
   },
   "outputs": [],
   "source": [
    "g = Game()"
   ]
  },
  {
   "cell_type": "code",
   "execution_count": null,
   "metadata": {
    "collapsed": true
   },
   "outputs": [],
   "source": []
  },
  {
   "cell_type": "code",
   "execution_count": 21,
   "metadata": {
    "collapsed": false
   },
   "outputs": [
    {
     "data": {
      "text/plain": [
       "[None, 'Q', 'K']"
      ]
     },
     "execution_count": 21,
     "metadata": {},
     "output_type": "execute_result"
    }
   ],
   "source": [
    "g.get_state()"
   ]
  },
  {
   "cell_type": "code",
   "execution_count": 24,
   "metadata": {
    "collapsed": false
   },
   "outputs": [
    {
     "data": {
      "text/plain": [
       "2"
      ]
     },
     "execution_count": 24,
     "metadata": {},
     "output_type": "execute_result"
    }
   ],
   "source": [
    "len(filter(None, g.view_board()))"
   ]
  },
  {
   "cell_type": "code",
   "execution_count": 38,
   "metadata": {
    "collapsed": true
   },
   "outputs": [],
   "source": [
    "def all_boards():\n",
    "    boards = set(itertools.permutations([Card.KING, Card.QUEEN, Card.JACK, None, None], r=3))\n",
    "    return map(lambda x: {Pos.LEFT: x[0], Pos.CENTER: x[1], Pos.RIGHT: x[2]}, boards)"
   ]
  },
  {
   "cell_type": "code",
   "execution_count": 39,
   "metadata": {
    "collapsed": false
   },
   "outputs": [
    {
     "data": {
      "text/plain": [
       "33"
      ]
     },
     "execution_count": 39,
     "metadata": {},
     "output_type": "execute_result"
    }
   ],
   "source": [
    "len(all_boards())"
   ]
  },
  {
   "cell_type": "code",
   "execution_count": 41,
   "metadata": {
    "collapsed": false
   },
   "outputs": [
    {
     "data": {
      "text/plain": [
       "[['Q', 'J', None],\n",
       " [None, 'K', None],\n",
       " [None, 'K', 'J'],\n",
       " ['Q', 'K', None],\n",
       " ['Q', None, 'J'],\n",
       " ['J', None, None],\n",
       " [None, 'Q', None],\n",
       " ['Q', 'K', 'J'],\n",
       " ['J', None, 'K'],\n",
       " ['K', 'Q', None],\n",
       " ['K', 'Q', 'J'],\n",
       " ['K', 'J', None],\n",
       " [None, None, 'Q'],\n",
       " ['Q', 'J', 'K'],\n",
       " ['J', 'K', 'Q'],\n",
       " ['Q', None, None],\n",
       " [None, 'J', None],\n",
       " [None, 'Q', 'K'],\n",
       " [None, 'Q', 'J'],\n",
       " ['K', None, None],\n",
       " ['K', 'J', 'Q'],\n",
       " [None, 'J', 'Q'],\n",
       " ['K', None, 'Q'],\n",
       " [None, None, 'J'],\n",
       " ['J', 'Q', None],\n",
       " [None, None, 'K'],\n",
       " ['J', 'K', None],\n",
       " ['J', None, 'Q'],\n",
       " ['J', 'Q', 'K'],\n",
       " ['K', None, 'J'],\n",
       " [None, 'K', 'Q'],\n",
       " [None, 'J', 'K'],\n",
       " ['Q', None, 'K']]"
      ]
     },
     "execution_count": 41,
     "metadata": {},
     "output_type": "execute_result"
    }
   ],
   "source": [
    "map(list, set(itertools.permutations([Card.KING, Card.QUEEN, Card.JACK, None, None], r=3)))"
   ]
  },
  {
   "cell_type": "code",
   "execution_count": null,
   "metadata": {
    "collapsed": true
   },
   "outputs": [],
   "source": []
  }
 ],
 "metadata": {
  "kernelspec": {
   "display_name": "Python 2",
   "language": "python",
   "name": "python2"
  },
  "language_info": {
   "codemirror_mode": {
    "name": "ipython",
    "version": 2
   },
   "file_extension": ".py",
   "mimetype": "text/x-python",
   "name": "python",
   "nbconvert_exporter": "python",
   "pygments_lexer": "ipython2",
   "version": "2.7.10"
  }
 },
 "nbformat": 4,
 "nbformat_minor": 0
}
