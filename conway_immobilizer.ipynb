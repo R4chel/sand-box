{
 "cells": [
  {
   "cell_type": "code",
   "execution_count": 2,
   "metadata": {
    "collapsed": false
   },
   "outputs": [],
   "source": [
    "from __future__ import division\n",
    "import random\n",
    "import itertools"
   ]
  },
  {
   "cell_type": "code",
   "execution_count": 3,
   "metadata": {
    "collapsed": true
   },
   "outputs": [],
   "source": [
    "class Pos(object):\n",
    "    LEFT = 0\n",
    "    CENTER = 1\n",
    "    RIGHT = 2"
   ]
  },
  {
   "cell_type": "code",
   "execution_count": 4,
   "metadata": {
    "collapsed": true
   },
   "outputs": [],
   "source": [
    "class Card(object):\n",
    "    KING = 'K'\n",
    "    QUEEN = 'Q'\n",
    "    JACK = 'J'"
   ]
  },
  {
   "cell_type": "code",
   "execution_count": 22,
   "metadata": {
    "collapsed": false
   },
   "outputs": [],
   "source": [
    "class Game(object):\n",
    "    def __init__(self, cards=None):\n",
    "        if not cards:\n",
    "            cards = self.random_order()\n",
    "        self._piles = {}\n",
    "        self._piles[Pos.LEFT] = cards[:cards.index(0)]\n",
    "        cards = cards[cards.index(0)+1:]\n",
    "        self._piles[Pos.CENTER] = cards[:cards.index(0)]\n",
    "        self._piles[Pos.RIGHT] = cards[cards.index(0) + 1:]\n",
    "        self.move_count = 0\n",
    "        \n",
    "    def random_order(self):\n",
    "        cards = [Card.KING, Card.QUEEN, Card.JACK, 0, 0]\n",
    "        random.shuffle(cards)\n",
    "        return cards\n",
    "    \n",
    "    def view_board(self):\n",
    "        return {pos: get_or_none(self._piles[pos]) for pos in [Pos.LEFT, Pos.CENTER, Pos.RIGHT]} \n",
    "    \n",
    "    def win_condition(self):\n",
    "        return self._piles[Pos.LEFT] == [Card.KING, Card.QUEEN, Card.JACK]\n",
    "    \n",
    "    def move(self, from_pos, to_pos):\n",
    "        if get_or_none(self._piles[from_pos]):\n",
    "            self._piles[to_pos] = self._piles[from_pos][:1] + self._piles[to_pos]\n",
    "            self._piles[from_pos] = self._piles[from_pos][1:]\n",
    "        self.move_count += 1 "
   ]
  },
  {
   "cell_type": "code",
   "execution_count": 6,
   "metadata": {
    "collapsed": true
   },
   "outputs": [],
   "source": [
    "def get_or_none(l):\n",
    "    if l:\n",
    "        return l[0]"
   ]
  },
  {
   "cell_type": "code",
   "execution_count": 32,
   "metadata": {
    "collapsed": false
   },
   "outputs": [],
   "source": [
    "def test_algorithm(alg):\n",
    "    game = Game()\n",
    "    print game.view_board()\n",
    "    while game.move_count < 100 and not game.win_condition():\n",
    "        game.move(*alg(game.view_board()))\n",
    "    if game.win_condition():\n",
    "        print \"CONGRATS YOU WON!\"\n",
    "        return True\n",
    "    return False"
   ]
  },
  {
   "cell_type": "code",
   "execution_count": 37,
   "metadata": {
    "collapsed": true
   },
   "outputs": [],
   "source": [
    "def test_all_starts(alg):\n",
    "    loss_win =[0,0]\n",
    "    for start in itertools.permutations([Card.KING, Card.QUEEN, Card.JACK, 0, 0]):\n",
    "        game = Game(start)\n",
    "        while game.move_count < 10000 and not game.win_condition():\n",
    "            game.move(*alg(game.view_board()))\n",
    "        loss_win[game.win_condition()] += 1\n",
    "    print \"Won: %d\\nLost: %d\" % (loss_win[True], loss_win[False]) "
   ]
  },
  {
   "cell_type": "code",
   "execution_count": 38,
   "metadata": {
    "collapsed": true
   },
   "outputs": [],
   "source": [
    "def random_move(_state):\n",
    "    from_pos, to_pos = random.sample([Pos.LEFT, Pos.CENTER, Pos.RIGHT], 2)\n",
    "    return from_pos, to_pos"
   ]
  },
  {
   "cell_type": "code",
   "execution_count": 39,
   "metadata": {
    "collapsed": false
   },
   "outputs": [
    {
     "name": "stdout",
     "output_type": "stream",
     "text": [
      "Won: 0\n",
      "Lost: 120\n"
     ]
    }
   ],
   "source": [
    "test_all_starts(random_move)"
   ]
  },
  {
   "cell_type": "code",
   "execution_count": 42,
   "metadata": {
    "collapsed": false
   },
   "outputs": [
    {
     "name": "stdout",
     "output_type": "stream",
     "text": [
      "{0: None, 1: 'J', 2: 'Q'}\n"
     ]
    },
    {
     "data": {
      "text/plain": [
       "False"
      ]
     },
     "execution_count": 42,
     "metadata": {},
     "output_type": "execute_result"
    }
   ],
   "source": [
    "test_algorithm(random_move)"
   ]
  },
  {
   "cell_type": "code",
   "execution_count": null,
   "metadata": {
    "collapsed": true
   },
   "outputs": [],
   "source": []
  },
  {
   "cell_type": "code",
   "execution_count": null,
   "metadata": {
    "collapsed": true
   },
   "outputs": [],
   "source": []
  }
 ],
 "metadata": {
  "kernelspec": {
   "display_name": "Python 2",
   "language": "python",
   "name": "python2"
  },
  "language_info": {
   "codemirror_mode": {
    "name": "ipython",
    "version": 2
   },
   "file_extension": ".py",
   "mimetype": "text/x-python",
   "name": "python",
   "nbconvert_exporter": "python",
   "pygments_lexer": "ipython2",
   "version": "2.7.10"
  }
 },
 "nbformat": 4,
 "nbformat_minor": 0
}
