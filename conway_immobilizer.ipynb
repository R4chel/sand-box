{
 "cells": [
  {
   "cell_type": "code",
   "execution_count": null,
   "metadata": {
    "collapsed": false
   },
   "outputs": [],
   "source": [
    "from __future__ import division\n",
    "import random"
   ]
  },
  {
   "cell_type": "code",
   "execution_count": null,
   "metadata": {
    "collapsed": true
   },
   "outputs": [],
   "source": [
    "class Pos(object):\n",
    "    LEFT = 0\n",
    "    CENTER = 1\n",
    "    RIGHT = 2"
   ]
  },
  {
   "cell_type": "code",
   "execution_count": null,
   "metadata": {
    "collapsed": true
   },
   "outputs": [],
   "source": [
    "class Card(object):\n",
    "    KING = 'K'\n",
    "    QUEEN = 'Q'\n",
    "    JACK = 'J'"
   ]
  },
  {
   "cell_type": "code",
   "execution_count": null,
   "metadata": {
    "collapsed": false
   },
   "outputs": [],
   "source": [
    "class Game(object):\n",
    "    def __init__(self, cards=None):\n",
    "        if not cards:\n",
    "            cards = self.random_order()\n",
    "        self._piles = {}\n",
    "        self._piles[Pos.LEFT] = cards[:cards.index(0)]\n",
    "        self._piles[Pos.CENTER] = cards[cards.index(0) + 1 : cards.index(1)]\n",
    "        self._piles[Pos.RIGHT] = cards[cards.index(1) + 1:]\n",
    "        self.move_count = 0\n",
    "        \n",
    "    def random_order(self):\n",
    "        cards = [Card.KING, Card.QUEEN, Card.JACK, 0, 1]\n",
    "        random.shuffle(cards)\n",
    "        return cards\n",
    "    \n",
    "    def view_board(self):\n",
    "        return {pos: get_or_none(self._piles[pos]) for pos in [Pos.LEFT, Pos.CENTER, Pos.RIGHT]} \n",
    "    \n",
    "    def win_condition(self):\n",
    "        return self._piles[pos.LEFT] == [Card.king, Card.queen, Card.jack]\n",
    "    \n",
    "    def move(self, from_pos, to_pos):\n",
    "        if get_or_none(self._piles[from_pos]):\n",
    "            self._piles[to_pos] = self._piles[from_pos:1] + self._piles[to_pos]\n",
    "            self._piles[from_pos] = self._piles[1:]\n",
    "            self.move_count += 1 "
   ]
  },
  {
   "cell_type": "code",
   "execution_count": null,
   "metadata": {
    "collapsed": true
   },
   "outputs": [],
   "source": [
    "def get_or_none(l):\n",
    "    if l:\n",
    "        return l[0]"
   ]
  }
 ],
 "metadata": {
  "kernelspec": {
   "display_name": "Python 2",
   "language": "python",
   "name": "python2"
  },
  "language_info": {
   "codemirror_mode": {
    "name": "ipython",
    "version": 2
   },
   "file_extension": ".py",
   "mimetype": "text/x-python",
   "name": "python",
   "nbconvert_exporter": "python",
   "pygments_lexer": "ipython2",
   "version": "2.7.10"
  }
 },
 "nbformat": 4,
 "nbformat_minor": 0
}
