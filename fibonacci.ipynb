{
 "cells": [
  {
   "cell_type": "code",
   "execution_count": 1,
   "metadata": {
    "collapsed": false
   },
   "outputs": [],
   "source": [
    "from __future__ import division"
   ]
  },
  {
   "cell_type": "code",
   "execution_count": 2,
   "metadata": {
    "collapsed": true
   },
   "outputs": [],
   "source": [
    "fib_dict = dict()"
   ]
  },
  {
   "cell_type": "code",
   "execution_count": 3,
   "metadata": {
    "collapsed": true
   },
   "outputs": [],
   "source": [
    "def fib(n):\n",
    "    if not n in fib_dict:\n",
    "        if not isinstance(n, int):\n",
    "            raise TypeError\n",
    "        if n < 0:\n",
    "            raise ValueError\n",
    "        if n == 0:\n",
    "            fib_dict[n] = 0\n",
    "        elif n == 1:\n",
    "            fib_dict[n] = 1\n",
    "        else:\n",
    "            fib_dict[n] = fib(n - 1) + fib(n - 2)\n",
    "    return fib_dict[n]"
   ]
  },
  {
   "cell_type": "code",
   "execution_count": 4,
   "metadata": {
    "collapsed": true
   },
   "outputs": [],
   "source": [
    "def fib_inverse(n):\n",
    "    \"\"\"returns (fib(n))^-1 mod (fib(n+1))\"\"\"\n",
    "    if n % 2:\n",
    "        return fib(n) % fib(n+1)\n",
    "    return (-1 * fib(n)) % fib(n+1)"
   ]
  },
  {
   "cell_type": "code",
   "execution_count": 5,
   "metadata": {
    "collapsed": false
   },
   "outputs": [
    {
     "name": "stdout",
     "output_type": "stream",
     "text": [
      "0\n",
      "1\n"
     ]
    }
   ],
   "source": [
    "for n in range(10000):\n",
    "    if (fib(n) * fib_inverse(n)) % fib(n + 1) <> 1:\n",
    "        print n"
   ]
  },
  {
   "cell_type": "code",
   "execution_count": null,
   "metadata": {
    "collapsed": false
   },
   "outputs": [],
   "source": [
    "for n in range(1,10000):\n",
    "    if (fib(2*n+1)**2) <> 1+ fib(2*n)*fib(2*n+2):\n",
    "        print n\n",
    "    if fib(2*n) * fib(2*n - 1) <> 1 + fib(2*n + 1) * fib(2*n - 2):\n",
    "        print n"
   ]
  },
  {
   "cell_type": "code",
   "execution_count": null,
   "metadata": {
    "collapsed": false
   },
   "outputs": [],
   "source": [
    "for n in range(1,100000):\n",
    "    if fib(n + 1) * fib(n - 1) <> fib(n) ** 2 + (-1) ** n:\n",
    "        print n"
   ]
  },
  {
   "cell_type": "code",
   "execution_count": null,
   "metadata": {
    "collapsed": true
   },
   "outputs": [],
   "source": []
  }
 ],
 "metadata": {
  "kernelspec": {
   "display_name": "Python 2",
   "language": "python",
   "name": "python2"
  },
  "language_info": {
   "codemirror_mode": {
    "name": "ipython",
    "version": 2
   },
   "file_extension": ".py",
   "mimetype": "text/x-python",
   "name": "python",
   "nbconvert_exporter": "python",
   "pygments_lexer": "ipython2",
   "version": "2.7.10"
  }
 },
 "nbformat": 4,
 "nbformat_minor": 0
}
